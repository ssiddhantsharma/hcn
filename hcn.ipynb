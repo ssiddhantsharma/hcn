{
  "nbformat": 4,
  "nbformat_minor": 0,
  "metadata": {
    "colab": {
      "name": "rahm_lab.ipynb",
      "provenance": [],
      "authorship_tag": "ABX9TyNPYixTzOTOLEtqkyowjEEW",
      "include_colab_link": true
    },
    "kernelspec": {
      "name": "python3",
      "display_name": "Python 3"
    },
    "language_info": {
      "name": "python"
    }
  },
  "cells": [
    {
      "cell_type": "markdown",
      "metadata": {
        "id": "view-in-github",
        "colab_type": "text"
      },
      "source": [
        "<a href=\"https://colab.research.google.com/github/ssiddhantsharma/hcn/blob/main/hcn.ipynb\" target=\"_parent\"><img src=\"https://colab.research.google.com/assets/colab-badge.svg\" alt=\"Open In Colab\"/></a>"
      ]
    },
    {
      "cell_type": "code",
      "metadata": {
        "colab": {
          "base_uri": "https://localhost:8080/"
        },
        "id": "3aM1iARtUNNo",
        "outputId": "33e12c46-4c4c-456c-f629-901277eb96d1"
      },
      "source": [
        "!pip install rdkit-pypi mols2grid"
      ],
      "execution_count": 1,
      "outputs": [
        {
          "output_type": "stream",
          "text": [
            "Collecting rdkit-pypi\n",
            "  Downloading rdkit_pypi-2021.3.4-cp37-cp37m-manylinux2014_x86_64.whl (18.6 MB)\n",
            "\u001b[K     |████████████████████████████████| 18.6 MB 155 kB/s \n",
            "\u001b[?25hCollecting mols2grid\n",
            "  Downloading mols2grid-0.0.6-py3-none-any.whl (22 kB)\n",
            "Requirement already satisfied: numpy>=1.19 in /usr/local/lib/python3.7/dist-packages (from rdkit-pypi) (1.19.5)\n",
            "Requirement already satisfied: jinja2 in /usr/local/lib/python3.7/dist-packages (from mols2grid) (2.11.3)\n",
            "Requirement already satisfied: pandas in /usr/local/lib/python3.7/dist-packages (from mols2grid) (1.1.5)\n",
            "Requirement already satisfied: MarkupSafe>=0.23 in /usr/local/lib/python3.7/dist-packages (from jinja2->mols2grid) (2.0.1)\n",
            "Requirement already satisfied: python-dateutil>=2.7.3 in /usr/local/lib/python3.7/dist-packages (from pandas->mols2grid) (2.8.1)\n",
            "Requirement already satisfied: pytz>=2017.2 in /usr/local/lib/python3.7/dist-packages (from pandas->mols2grid) (2018.9)\n",
            "Requirement already satisfied: six>=1.5 in /usr/local/lib/python3.7/dist-packages (from python-dateutil>=2.7.3->pandas->mols2grid) (1.15.0)\n",
            "Installing collected packages: rdkit-pypi, mols2grid\n",
            "Successfully installed mols2grid-0.0.6 rdkit-pypi-2021.3.4\n"
          ],
          "name": "stdout"
        }
      ]
    },
    {
      "cell_type": "code",
      "metadata": {
        "id": "IJAIc3H9ZBjR"
      },
      "source": [
        "import mols2grid\n",
        "import pandas as pd\n",
        "url = '/content/siddhant_chalmers_cassum.csv'\n",
        "df = pd.read_csv(url, sep=',', header=0)  #reading the energy data coming collected over CASSUM\n",
        "ID = df['ID'].tolist()  #number\n",
        "CLASS = df['CLASS'].tolist() #class of molecule: monomer unit or molecule\n",
        "Name = df['Name'].tolist() #according to thermomap\n",
        "smiles = df['smiles'].tolist()\n",
        "ev= df['vac'].tolist() #deltaE for vacuum\n",
        "es= df['solv'].tolist() #deltaE for solvent(H20)\n",
        "gr = df['dG298'].tolist() #delta G for room temp\n",
        "gr_s = df['dGsolv298'].tolist() #delta g for room temp solvent\n",
        "gt = df['dG93.6'].tolist() #delta g for titan temp\n",
        "gt_s = df['dGsolv93.6'].tolist() #delta g for titan temp solvent\n",
        "df = pd.DataFrame({\"id\": ID, \"smiles\": smiles,\"class\": CLASS, \"Name\": Name,\"ΔE-Vac\":ev, \"ΔE-Solv\": es, \"ΔG-298.15 K\": gr, \"ΔG-Solv-298.15 K\": gr_s, \"ΔG-93.6 K\": gt, \"ΔG-Solv-93.6 K\": gt_s})\n",
        "mg = mols2grid.MolGrid(df, smiles_col=\"smiles\", size=(290, 180), useSVG=True, coordGen=True, fixedBondLength=40)\n",
        "mg.save(\"index.html\", subset=[\"id\", \"img\", \"class\"], n_cols=2, tooltip=[\"Name\", \"ΔE-Vac\",\"ΔE-Solv\", \"ΔG-298.15 K\", \"ΔG-Solv-298.15 K\", \"ΔG-93.6 K\", \"ΔG-Solv-93.6 K\"], style={\"Name\": lambda x: \"color: red\"}, template=\"pages\",tooltip_placement=\"bottom\", fontsize=\"15pt\", hover_color=\"#f5a841\", n_rows=3, border=\"1px solid #cccccc\", fontfamily = \"roboto, sans-serif\", selection=False)"
      ],
      "execution_count": 22,
      "outputs": []
    },
    {
      "cell_type": "code",
      "metadata": {
        "id": "808E2wJ7dAA7"
      },
      "source": [
        ""
      ],
      "execution_count": 16,
      "outputs": []
    }
  ]
}